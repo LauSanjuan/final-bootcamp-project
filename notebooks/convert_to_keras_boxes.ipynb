{
 "cells": [
  {
   "cell_type": "code",
   "execution_count": 25,
   "metadata": {},
   "outputs": [],
   "source": [
    "import os\n",
    "import keras_cv\n",
    "import tensorflow as tf\n",
    "from tensorflow import keras\n",
    "import numpy as np\n",
    "import matplotlib.pyplot as plt\n",
    "from PIL import Image\n",
    "from keras.preprocessing.image import array_to_img\n",
    "import chitra.image as Chitra\n",
    "\n"
   ]
  },
  {
   "cell_type": "code",
   "execution_count": 26,
   "metadata": {},
   "outputs": [],
   "source": [
    "class_ids = [\n",
    "    \"belcebu\",\n",
    "    \"mazapan\",\n",
    "    \"nina\",\n",
    "    \"uxia\"\n",
    "]\n",
    "class_mapping = dict(zip(range(len(class_ids)), class_ids))\n",
    "\n",
    "bounding_box_format = \"center_xywh\"\n",
    "\n",
    "path_dataset = \"images-and-labels\"\n",
    "\n",
    "annotations = sorted(\n",
    "    [\n",
    "        os.path.join(path_dataset, file_name)\n",
    "        for file_name in os.listdir(path_dataset)\n",
    "        if file_name.endswith(\".txt\")\n",
    "    ]\n",
    ")\n",
    "\n",
    "images = sorted(\n",
    "    [\n",
    "        os.path.join(path_dataset, file_name)\n",
    "        for file_name in os.listdir(path_dataset)\n",
    "        if file_name.endswith(\".jpg\")\n",
    "    ]\n",
    ")\n",
    "\n",
    "assert len(images) == len(annotations)"
   ]
  },
  {
   "cell_type": "code",
   "execution_count": 27,
   "metadata": {},
   "outputs": [],
   "source": [
    "def bounding_box_absolute(box):\n",
    "\twidth = box[2]\n",
    "\theight = box[3]\n",
    "\tnew_x = box[0] - width / 2\n",
    "\tnew_y = box[1] - height / 2\n",
    "\treturn [new_x, new_y, width, height]"
   ]
  },
  {
   "cell_type": "code",
   "execution_count": 28,
   "metadata": {},
   "outputs": [],
   "source": [
    "for annotation_path in annotations:\n",
    "\tclasses_for_img = []\n",
    "\tboxes_for_img = []\n",
    "\twith open(annotation_path) as annotation_file:\n",
    "\t\tfor line in annotation_file.readlines():\n",
    "\t\t\tclasses_for_img.append(int(line.split(' ')[0]))\n",
    "\t\t\tboxes_for_img.append([float(n) for n in line.strip().split(' ')[1:]])\n",
    "\twith open(os.path.join(\"updated-images-and-labels\", annotation_path.split(\"/\")[1]), \"w\") as file:\n",
    "\t\tfor c, box in zip(classes_for_img, boxes_for_img):\n",
    "\t\t\tnew_box = bounding_box_absolute(box)\n",
    "\t\t\tfile.write(f\"{int(c)} {' '.join([str(n) for n in new_box])}\\n\")\n",
    "\n"
   ]
  }
 ],
 "metadata": {
  "kernelspec": {
   "display_name": ".venv",
   "language": "python",
   "name": "python3"
  },
  "language_info": {
   "codemirror_mode": {
    "name": "ipython",
    "version": 3
   },
   "file_extension": ".py",
   "mimetype": "text/x-python",
   "name": "python",
   "nbconvert_exporter": "python",
   "pygments_lexer": "ipython3",
   "version": "3.10.8"
  },
  "orig_nbformat": 4
 },
 "nbformat": 4,
 "nbformat_minor": 2
}
