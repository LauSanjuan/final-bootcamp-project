{
 "cells": [
  {
   "cell_type": "code",
   "execution_count": 102,
   "metadata": {},
   "outputs": [],
   "source": [
    "import os\n",
    "import cv2\n",
    "import albumentations as A\n",
    "import numpy as np\n",
    "import matplotlib.pyplot as plt\n",
    "from pathlib import Path\n",
    "import shutil\n",
    "import random\n",
    "import uuid\n"
   ]
  },
  {
   "cell_type": "code",
   "execution_count": 103,
   "metadata": {},
   "outputs": [],
   "source": [
    "class_ids = [\n",
    "    \"belcebu\",\n",
    "    \"mazapan\",\n",
    "    \"nina\",\n",
    "    \"uxia\"\n",
    "]\n",
    "colors = [\n",
    "    (12,23,61),\n",
    "   (187, 153, 61) ,\n",
    "   (246, 113, 231),\n",
    "   (41, 164, 65)\n",
    "]\n",
    "\n",
    "VAL_SPLIT = 0.08\n",
    "\n",
    "class_mapping = dict(zip(range(len(class_ids)), class_ids))\n",
    "color_mapping = dict(zip(range(len(class_ids)), colors))\n",
    "\n",
    "\n",
    "path_dataset = \"images-and-labels\"\n",
    "path_processed_dataset = \"processed-images-and-labels\"\n",
    "\n",
    "annotations = sorted(\n",
    "    [\n",
    "        os.path.join(path_dataset, file_name)\n",
    "        for file_name in os.listdir(path_dataset)\n",
    "        if file_name.endswith(\".txt\")\n",
    "    ]\n",
    ")\n",
    "\n",
    "image_paths = sorted(\n",
    "    [\n",
    "        os.path.join(path_dataset, file_name)\n",
    "        for file_name in os.listdir(path_dataset)\n",
    "        if file_name.endswith(\".jpg\")\n",
    "    ]\n",
    ")\n",
    "\n",
    "assert len(image_paths) == len(annotations)"
   ]
  },
  {
   "cell_type": "code",
   "execution_count": 104,
   "metadata": {},
   "outputs": [],
   "source": [
    "\n",
    "\n",
    "classes = []\n",
    "boxes = []\n",
    "for annotation_path in annotations:\n",
    "\tclasses_for_img = []\n",
    "\tboxes_for_img = []\n",
    "\tclasses_stringified = []\n",
    "\twith open(annotation_path) as annotation_file:\n",
    "\t\tfor line in annotation_file.readlines():\n",
    "\t\t\tclasses_for_img.append(int(line.split(' ')[0]))\n",
    "\t\t\tboxes_for_img.append([float(n) for n in line.strip().split(' ')[1:]])\n",
    "\tclasses.append(classes_for_img)\n",
    "\tboxes.append(boxes_for_img)\n",
    "\n",
    "\n",
    "images = []\n",
    "\n",
    "for path in image_paths:\n",
    "\timage = cv2.imread(path)\n",
    "\timage = cv2.cvtColor(image, cv2.COLOR_BGR2RGB)\n",
    "\timages.append(image)\n",
    "\n",
    "\n",
    "assert len(classes) == len(boxes) == len(images)"
   ]
  },
  {
   "cell_type": "code",
   "execution_count": 105,
   "metadata": {},
   "outputs": [],
   "source": [
    "not_nina_classes = []\n",
    "not_nina_boxes = []\n",
    "not_nina_images = []\n",
    "\n",
    "nina_classes = []\n",
    "nina_boxes = []\n",
    "nina_images = []\n",
    "\n",
    "nina_class = class_ids.index('nina')\n",
    "\n",
    "for image, classes_per_img, boxes_per_img in zip(images,classes,boxes):\n",
    "\tif nina_class in classes_per_img:\n",
    "\t\tnina_classes.append(classes_per_img)\n",
    "\t\tnina_boxes.append(boxes_per_img)\n",
    "\t\tnina_images.append(image)\n",
    "\telse:\n",
    "\t\tnot_nina_classes.append(classes_per_img)\n",
    "\t\tnot_nina_boxes.append(boxes_per_img)\n",
    "\t\tnot_nina_images.append(image)\n"
   ]
  },
  {
   "cell_type": "code",
   "execution_count": 106,
   "metadata": {},
   "outputs": [],
   "source": [
    "\n",
    "transform = A.Compose([\n",
    "    A.HorizontalFlip(p=0.7),\n",
    "    A.ShiftScaleRotate(p=0.5),\n",
    "    A.RandomBrightnessContrast(p=0.25),\n",
    "    A.RGBShift(r_shift_limit=20, g_shift_limit=20, b_shift_limit=20, p=0.4),\n",
    "], bbox_params=A.BboxParams(format='yolo', label_fields=['class_labels']))\n"
   ]
  },
  {
   "cell_type": "code",
   "execution_count": 107,
   "metadata": {},
   "outputs": [],
   "source": [
    "transformed_classes = []\n",
    "transformed_boxes = []\n",
    "transformed_images = []\n",
    "\n",
    "for image, classes_per_image, boxes_per_image in zip(not_nina_images, not_nina_classes, not_nina_boxes):\n",
    "\t\tresult = transform(image=image, bboxes=boxes_per_image, class_labels=classes_per_image)\n",
    "\n",
    "\t\ttransformed_boxes.append(result['bboxes'])\n",
    "\t\ttransformed_classes.append(result['class_labels'])\n",
    "\t\ttransformed_images.append(result['image'])\n",
    "\n"
   ]
  },
  {
   "cell_type": "code",
   "execution_count": 108,
   "metadata": {},
   "outputs": [],
   "source": [
    "def draw_bounding_boxes_on_image(image, bounding_boxes, class_labels):\n",
    "    for box, label in zip(bounding_boxes, class_labels):\n",
    "        x_norm, y_norm, width_norm, height_norm = box\n",
    "        image_height, image_width, _ = image.shape\n",
    "\n",
    "        x = int(x_norm * image_width)\n",
    "        y = int(y_norm * image_height)\n",
    "        width = int(width_norm * image_width)\n",
    "        height = int(height_norm * image_height)\n",
    "        x1 = int(x - width / 2)\n",
    "        y1 = int(y - height / 2)\n",
    "        x2 = int(x + width / 2)\n",
    "        y2 = int(y + height / 2)\n",
    "\n",
    "        cv2.rectangle(image, (x1, y1), (x2, y2), color_mapping[label], 2)\n",
    "        cv2.putText(image, class_mapping[label], (x1, y1 - 10), cv2.FONT_HERSHEY_SIMPLEX, 1, color_mapping[label], 2)\n",
    "\n",
    "def draw_images_grid(images, bounding_boxes_list, class_labels_list, grid_size=(2, 2)):\n",
    "    rows, cols = grid_size\n",
    "    grid_height = rows * images[0].shape[0]\n",
    "    grid_width = cols * images[0].shape[1]\n",
    "    grid = np.zeros((grid_height, grid_width, 3), dtype=np.uint8)\n",
    "\n",
    "    for row in range(rows):\n",
    "        for col in range(cols):\n",
    "            index = row * cols + col\n",
    "            if index < len(images):\n",
    "                image = images[index].copy()\n",
    "                bounding_boxes = bounding_boxes_list[index]\n",
    "                class_labels = class_labels_list[index]\n",
    "                draw_bounding_boxes_on_image(image, bounding_boxes, class_labels)\n",
    "\n",
    "                y_start = row * images[0].shape[0]\n",
    "                y_end = y_start + images[0].shape[0]\n",
    "                x_start = col * images[0].shape[1]\n",
    "                x_end = x_start + images[0].shape[1]\n",
    "\n",
    "                grid[y_start:y_end, x_start:x_end] = cv2.cvtColor(image, cv2.COLOR_RGB2BGR)\n",
    "\n",
    "    cv2.namedWindow(\"image_grid\")\n",
    "    cv2.imshow(\"image_grid\", grid)\n",
    "    cv2.waitKey(0)\n",
    "    cv2.destroyWindow(\"image_grid\")\n",
    "    cv2.waitKey(1)\n",
    "\n",
    "# Example usage\n",
    "#draw_images_grid(transformed_images[:4], transformed_boxes[:4], transformed_classes[:4], grid_size=(2, 2))\n"
   ]
  },
  {
   "cell_type": "code",
   "execution_count": 109,
   "metadata": {},
   "outputs": [
    {
     "name": "stdout",
     "output_type": "stream",
     "text": [
      "Total count 1346 images\n"
     ]
    }
   ],
   "source": [
    "all_classes = nina_classes + not_nina_classes + transformed_classes\n",
    "all_boxes = nina_boxes + not_nina_boxes + transformed_boxes\n",
    "all_images = nina_images + not_nina_images + transformed_images\n",
    "\n",
    "assert len(all_classes) == len(all_boxes) == len(all_images)\n",
    "\n",
    "print(f\"Total count {len(all_images)} images\")"
   ]
  },
  {
   "cell_type": "code",
   "execution_count": 110,
   "metadata": {},
   "outputs": [
    {
     "data": {
      "image/png": "[encoded data removed]",
      "text/plain": [
       "<Figure size 1000x600 with 1 Axes>"
      ]
     },
     "metadata": {},
     "output_type": "display_data"
    }
   ],
   "source": [
    "from collections import Counter\n",
    "\n",
    "def plot_class_distribution(classes):\n",
    "\tflattened_classes = [n for c in classes for n in c]\n",
    "\tcounted_classes = Counter(flattened_classes)\n",
    "\tclass_counts = list(counted_classes.values())\n",
    "\n",
    "\t# Create a list of class labels in the order of their occurrences\n",
    "\tclass_labels = [class_mapping[class_num] for class_num in counted_classes.keys()]\n",
    "\n",
    "\n",
    "\t# Create a histogram\n",
    "\tplt.figure(figsize=(10, 6))\n",
    "\tbars  =\tplt.bar(class_labels, class_counts)\n",
    "\tclass_colors_scaled = {class_num: (r/255.0, g/255.0, b/255.0) for class_num, (r, g, b) in color_mapping.items()}\n",
    "\n",
    "\tfor class_num, bar in zip(counted_classes.keys(), bars):\n",
    "\t\tbar.set_color(class_colors_scaled[class_num])\n",
    "\tplt.xlabel('Class')\n",
    "\tplt.ylabel('Occurrences')\n",
    "\tplt.title('Class Distribution Histogram')\n",
    "\tplt.xticks(rotation=45, ha='right')\n",
    "\n",
    "\t# Display the plot\n",
    "\tplt.tight_layout()\n",
    "\tplt.show()\n",
    "\n",
    "plot_class_distribution(all_classes)\n"
   ]
  },
  {
   "cell_type": "code",
   "execution_count": 111,
   "metadata": {},
   "outputs": [],
   "source": [
    "def shuffle_lists(classes, boxes, images):\n",
    "\t\tcombined = list(zip(classes, boxes, images))\n",
    "\n",
    "\t\t# Shuffle the combined list\n",
    "\t\trandom.shuffle(combined)\n",
    "\n",
    "\t\tshuffled_classes, shuffled_boxes, shuffled_images = zip(*combined)\n",
    "\n",
    "\t\tshuffled_classes = list(shuffled_classes)\n",
    "\t\tshuffled_boxes = list(shuffled_boxes)\n",
    "\t\tshuffled_images = list(shuffled_images)\n",
    "\n",
    "\t\treturn shuffled_classes,\tshuffled_boxes, shuffled_images\n",
    "\n",
    "\n",
    "shuffled_classes, shuffled_boxes, shuffled_images = shuffle_lists(all_classes,all_boxes,all_images)\n",
    "\n",
    "\n",
    "#draw_images_grid(shuffled_images[:4], shuffled_boxes[:4], shuffled_classes[:4], grid_size=(2, 2))"
   ]
  },
  {
   "cell_type": "code",
   "execution_count": 112,
   "metadata": {},
   "outputs": [
    {
     "name": "stdout",
     "output_type": "stream",
     "text": [
      "1239 train images written\n",
      "107 validation images written\n"
     ]
    }
   ],
   "source": [
    "\n",
    "val_num = int(VAL_SPLIT * len(shuffled_images))\n",
    "\n",
    "val_images = shuffled_images[:val_num]\n",
    "val_boxes = shuffled_boxes[:val_num]\n",
    "val_classes = shuffled_classes[:val_num]\n",
    "\n",
    "train_images = shuffled_images[val_num:]\n",
    "train_boxes = shuffled_boxes[val_num:]\n",
    "train_classes = shuffled_classes[val_num:]\n",
    "\n",
    "def write_instances(images, boxes, classes, path):\n",
    "\tPath(path).mkdir(parents=True)\n",
    "\n",
    "\tfor image, boxes_per_img, classes_per_img in zip(images,boxes, classes):\n",
    "\t\timg_path = Path(os.path.join(path, str(uuid.uuid4())))\n",
    "\t\tcv2.imwrite(str(img_path.with_suffix('.jpg')), cv2.cvtColor(image, cv2.COLOR_RGB2BGR))\n",
    "\n",
    "\t\twith open(img_path.with_suffix('.txt'), 'w') as file:\n",
    "\t\t\tfile.writelines([f\"{c} {' '.join([str(b) for b in box])}\\n\" for c, box in zip(classes_per_img, boxes_per_img)])\n",
    "\t\t\n",
    "\t\t\n",
    "print(f\"{len(train_images)} train images written\")\n",
    "print(f\"{len(val_images)} validation images written\")\n"
   ]
  },
  {
   "cell_type": "code",
   "execution_count": 113,
   "metadata": {},
   "outputs": [],
   "source": [
    "\n",
    "try:\n",
    "\tshutil.rmtree(path_processed_dataset)\n",
    "except FileNotFoundError:\n",
    "\t...\n",
    "\n",
    "write_instances(val_images, val_boxes, val_classes, os.path.join(path_processed_dataset,'val'))\n",
    "write_instances(train_images, train_boxes, train_classes, os.path.join(path_processed_dataset,'train'))"
   ]
  },
  {
   "cell_type": "code",
   "execution_count": null,
   "metadata": {},
   "outputs": [],
   "source": [
    "\n",
    "from ultralytics import YOLO\n",
    "from ultralytics import settings\n",
    "\n",
    "\n",
    "model = YOLO('yolov8n.pt')  # load a pretrained model (recommended for training)\n",
    "\n",
    "settings.update({'datasets_dir': './'})\n",
    "\n",
    "# Train the model\n",
    "model.train(data='./dataset.yml', imgsz=640)\n"
   ]
  },
  {
   "cell_type": "code",
   "execution_count": null,
   "metadata": {},
   "outputs": [],
   "source": []
  }
 ],
 "metadata": {
  "kernelspec": {
   "display_name": ".venv",
   "language": "python",
   "name": "python3"
  },
  "language_info": {
   "codemirror_mode": {
    "name": "ipython",
    "version": 3
   },
   "file_extension": ".py",
   "mimetype": "text/x-python",
   "name": "python",
   "nbconvert_exporter": "python",
   "pygments_lexer": "ipython3",
   "version": "3.10.8"
  },
  "orig_nbformat": 4
 },
 "nbformat": 4,
 "nbformat_minor": 2
}
